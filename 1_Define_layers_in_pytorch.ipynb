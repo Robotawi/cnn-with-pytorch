{
 "cells": [
  {
   "cell_type": "code",
   "execution_count": 19,
   "metadata": {},
   "outputs": [],
   "source": [
    "import torch.nn as nn\n",
    "import torch.nn.functional as F\n",
    "\n",
    "\n",
    "class Net(nn.Module):\n",
    "    def __init__(self, n_classes):\n",
    "        super(Net, self).__init__()\n",
    "\n",
    "        # 1 input image channel (grayscale), and 32 output channels/feature maps (convolution result)\n",
    "        # 5x5 square convolution kernel.\n",
    "        self.conv1 = nn.Conv2d(1, 32, 5)\n",
    "\n",
    "        # max pool later\n",
    "        # pool with kernel size of and stride of 2\n",
    "        self.pool = nn.MaxPool2d(2,2)\n",
    "\n",
    "        self.fc1 = nn.Linear(32*4, n_classes)\n",
    "\n",
    "    #feedforward behavior\n",
    "    def forward(self, x):\n",
    "        x = self.pool(F.relu(self.conv1(x)))\n",
    "\n",
    "        x = x.view(x.size(0), -1)\n",
    "\n",
    "        x = F.relu(self.fc1(x))\n",
    "\n",
    "        return x  \n"
   ]
  },
  {
   "cell_type": "markdown",
   "metadata": {},
   "source": [
    "To compute the output of convolution layer, we will be using the formula of [(W - F + 2*P)/S ] + 1\n",
    "\n",
    "Here, Input, W = 32\n",
    "\n",
    "Filter size, F = 5\n",
    "\n",
    "Padding, P = 2\n",
    "\n",
    "Stride, S = 1 (default value)"
   ]
  },
  {
   "cell_type": "code",
   "execution_count": 31,
   "metadata": {},
   "outputs": [
    {
     "name": "stdout",
     "output_type": "stream",
     "text": [
      "32.0\n",
      "Net(\n",
      "  (conv1): Conv2d(1, 32, kernel_size=(5, 5), stride=(1, 1))\n",
      "  (pool): MaxPool2d(kernel_size=2, stride=2, padding=0, dilation=1, ceil_mode=False)\n",
      "  (fc1): Linear(in_features=128, out_features=10, bias=True)\n",
      ")\n"
     ]
    }
   ],
   "source": [
    "W = 32\n",
    "F = 3\n",
    "P = 1\n",
    "S = 1\n",
    "\n",
    "output_shape =  ((W - F + 2*P)/S ) + 1\n",
    "\n",
    "print(output_shape)\n",
    "\n",
    "my_nn = Net(10)\n",
    "print(my_nn)\n",
    "# all_params = my_nn.parameters()\n",
    "\n",
    "# for p in all_params:\n",
    "#     print(p)\n",
    "#     print('---------------')"
   ]
  }
 ],
 "metadata": {
  "kernelspec": {
   "display_name": "Python 3.6.9 64-bit",
   "language": "python",
   "name": "python3"
  },
  "language_info": {
   "codemirror_mode": {
    "name": "ipython",
    "version": 3
   },
   "file_extension": ".py",
   "mimetype": "text/x-python",
   "name": "python",
   "nbconvert_exporter": "python",
   "pygments_lexer": "ipython3",
   "version": "3.6.9"
  },
  "orig_nbformat": 4,
  "vscode": {
   "interpreter": {
    "hash": "31f2aee4e71d21fbe5cf8b01ff0e069b9275f58929596ceb00d14d90e3e16cd6"
   }
  }
 },
 "nbformat": 4,
 "nbformat_minor": 2
}
